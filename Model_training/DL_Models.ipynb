{
 "cells": [
  {
   "cell_type": "code",
   "execution_count": 1,
   "metadata": {},
   "outputs": [],
   "source": [
    "import pandas as pd\n",
    "import numpy as np\n",
    "import joblib\n",
    "import lizard\n",
    "import torch\n",
    "import torch.nn as nn\n",
    "import torch.optim as optim\n",
    "from sklearn.linear_model import LogisticRegression\n",
    "from sklearn.ensemble import RandomForestClassifier\n",
    "from sklearn.preprocessing import StandardScaler\n",
    "from sklearn.model_selection import train_test_split\n",
    "from sklearn.metrics import accuracy_score, precision_score, recall_score, f1_score\n",
    "from Static_code_analyzer import static_code_analyzer\n"
   ]
  },
  {
   "cell_type": "code",
   "execution_count": null,
   "metadata": {},
   "outputs": [],
   "source": [
    "# ====== Load Dataset ======\n",
    "df = pd.read_csv('../Datasets/processed_jm1.csv')\n",
    "X = df.drop(\"defects\", axis=1).values\n",
    "y = df[\"defects\"].values\n",
    "\n",
    "# Train-test split\n",
    "X_train, X_test, y_train, y_test = train_test_split(X, y, test_size=0.2, random_state=42)"
   ]
  },
  {
   "cell_type": "code",
   "execution_count": null,
   "metadata": {},
   "outputs": [
    {
     "data": {
      "text/plain": [
       "['models/scaler.pkl']"
      ]
     },
     "execution_count": 3,
     "metadata": {},
     "output_type": "execute_result"
    }
   ],
   "source": [
    "scaler = StandardScaler()\n",
    "X_train_scaled = scaler.fit_transform(X_train)\n",
    "X_test_scaled = scaler.transform(X_test)\n",
    "joblib.dump(scaler, '../models/scaler.pkl')"
   ]
  },
  {
   "cell_type": "code",
   "execution_count": null,
   "metadata": {},
   "outputs": [],
   "source": [
    "rf_model = joblib.load(\"../models/rf_model.pkl\")\n",
    "xgb_model = joblib.load(\"../models/xgb_model.pkl\")"
   ]
  },
  {
   "cell_type": "code",
   "execution_count": null,
   "metadata": {},
   "outputs": [],
   "source": [
    "class ANN(nn.Module):\n",
    "    def __init__(self, input_dim):\n",
    "        super(ANN, self).__init__()\n",
    "        self.layers = nn.Sequential(\n",
    "            nn.Linear(input_dim, 64),\n",
    "            nn.ReLU(),\n",
    "            nn.Dropout(0.3),\n",
    "            nn.Linear(64, 32),\n",
    "            nn.ReLU(),\n",
    "            nn.Dropout(0.3),\n",
    "            nn.Linear(32, 1)\n",
    "        )\n",
    "    def forward(self, x):\n",
    "        return self.layers(x)\n",
    "\n",
    "def train_ann_model(X_train_scaled, y_train, input_dim, epochs=50, batch_size=32):\n",
    "    model = ANN(input_dim)\n",
    "    criterion = nn.BCEWithLogitsLoss()\n",
    "    optimizer = optim.Adam(model.parameters(), lr=0.001)\n",
    "\n",
    "    dataset = torch.utils.data.TensorDataset(\n",
    "        torch.tensor(X_train_scaled, dtype=torch.float32),\n",
    "        torch.tensor(y_train.reshape(-1, 1), dtype=torch.float32)\n",
    "    )\n",
    "    loader = torch.utils.data.DataLoader(dataset, batch_size=batch_size, shuffle=True)\n",
    "\n",
    "    for epoch in range(epochs):\n",
    "        model.train()\n",
    "        for batch_x, batch_y in loader:\n",
    "            optimizer.zero_grad()\n",
    "            outputs = model(batch_x)\n",
    "            loss = criterion(outputs, batch_y)\n",
    "            loss.backward()\n",
    "            optimizer.step()\n",
    "    \n",
    "    # Save model after training\n",
    "    torch.save(model.state_dict(), \"../models/ann_model.pth\")\n",
    "    return model\n"
   ]
  },
  {
   "cell_type": "code",
   "execution_count": null,
   "metadata": {},
   "outputs": [],
   "source": [
    "class RNN(nn.Module):\n",
    "    def __init__(self, input_dim, hidden_dim=32, num_layers=1):\n",
    "        super(RNN, self).__init__()\n",
    "        self.rnn = nn.RNN(input_dim, hidden_dim, num_layers, batch_first=True, nonlinearity='relu')\n",
    "        self.fc = nn.Linear(hidden_dim, 1)\n",
    "\n",
    "    def forward(self, x):\n",
    "        out, _ = self.rnn(x)\n",
    "        out = out[:, -1, :]  # last output\n",
    "        out = self.fc(out)\n",
    "        return out\n",
    "\n",
    "def train_rnn_model(X_train_scaled, y_train, input_dim, epochs=50, batch_size=32):\n",
    "    model = RNN(input_dim)\n",
    "    criterion = nn.BCEWithLogitsLoss()\n",
    "    optimizer = optim.Adam(model.parameters(), lr=0.001)\n",
    "\n",
    "    X_rnn_train = torch.tensor(X_train_scaled, dtype=torch.float32).unsqueeze(1)  # Add seq_len dim\n",
    "    y_tensor = torch.tensor(y_train.reshape(-1, 1), dtype=torch.float32)\n",
    "\n",
    "    dataset = torch.utils.data.TensorDataset(X_rnn_train, y_tensor)\n",
    "    loader = torch.utils.data.DataLoader(dataset, batch_size=batch_size, shuffle=True)\n",
    "\n",
    "    for epoch in range(epochs):\n",
    "        model.train()\n",
    "        for batch_x, batch_y in loader:\n",
    "            optimizer.zero_grad()\n",
    "            outputs = model(batch_x)\n",
    "            loss = criterion(outputs, batch_y)\n",
    "            loss.backward()\n",
    "            optimizer.step()\n",
    "    \n",
    "    # Save model after training\n",
    "    torch.save(model.state_dict(), \"../models/rnn_model.pth\")\n",
    "    return model"
   ]
  },
  {
   "cell_type": "code",
   "execution_count": 9,
   "metadata": {},
   "outputs": [],
   "source": [
    "ann_model = train_ann_model(X_train_scaled, y_train, input_dim=X_train_scaled.shape[1])\n",
    "rnn_model = train_rnn_model(X_train_scaled, y_train, input_dim=X_train_scaled.shape[1])"
   ]
  },
  {
   "cell_type": "code",
   "execution_count": 10,
   "metadata": {},
   "outputs": [
    {
     "data": {
      "text/plain": [
       "ANN(\n",
       "  (layers): Sequential(\n",
       "    (0): Linear(in_features=21, out_features=64, bias=True)\n",
       "    (1): ReLU()\n",
       "    (2): Dropout(p=0.3, inplace=False)\n",
       "    (3): Linear(in_features=64, out_features=32, bias=True)\n",
       "    (4): ReLU()\n",
       "    (5): Dropout(p=0.3, inplace=False)\n",
       "    (6): Linear(in_features=32, out_features=1, bias=True)\n",
       "  )\n",
       ")"
      ]
     },
     "execution_count": 10,
     "metadata": {},
     "output_type": "execute_result"
    }
   ],
   "source": [
    "ann_model.eval()"
   ]
  },
  {
   "cell_type": "code",
   "execution_count": 11,
   "metadata": {},
   "outputs": [
    {
     "data": {
      "text/plain": [
       "RNN(\n",
       "  (rnn): RNN(21, 32, batch_first=True)\n",
       "  (fc): Linear(in_features=32, out_features=1, bias=True)\n",
       ")"
      ]
     },
     "execution_count": 11,
     "metadata": {},
     "output_type": "execute_result"
    }
   ],
   "source": [
    "rnn_model.eval()"
   ]
  },
  {
   "cell_type": "code",
   "execution_count": null,
   "metadata": {},
   "outputs": [],
   "source": [
    "# ML models prediction (train)\n",
    "rf_train_pred = rf_model.predict_proba(X_train_scaled)[:, 1]\n",
    "xgb_train_pred = xgb_model.predict_proba(X_train_scaled)[:, 1]\n",
    "\n",
    "# ANN prediction (train)\n",
    "with torch.no_grad():\n",
    "    ann_train_pred = torch.sigmoid(ann_model(torch.tensor(X_train_scaled, dtype=torch.float32))).numpy().flatten()\n",
    "\n",
    "# RNN prediction (train)\n",
    "with torch.no_grad():\n",
    "    rnn_train_pred = torch.sigmoid(rnn_model(torch.tensor(X_train_scaled, dtype=torch.float32).unsqueeze(1))).numpy().flatten()\n",
    "\n",
    "# Combine for stacked training set\n",
    "stacked_train_X = np.vstack((rf_train_pred, xgb_train_pred, ann_train_pred, rnn_train_pred)).T\n"
   ]
  },
  {
   "cell_type": "code",
   "execution_count": null,
   "metadata": {},
   "outputs": [],
   "source": [
    "# ML models prediction (test)\n",
    "rf_test_pred = rf_model.predict_proba(X_test_scaled)[:, 1]\n",
    "xgb_test_pred = xgb_model.predict_proba(X_test_scaled)[:, 1]\n",
    "\n",
    "# ANN prediction (test)\n",
    "with torch.no_grad():\n",
    "    ann_test_pred = torch.sigmoid(ann_model(torch.tensor(X_test_scaled, dtype=torch.float32))).numpy().flatten()\n",
    "\n",
    "# RNN prediction (test)\n",
    "with torch.no_grad():\n",
    "    rnn_test_pred = torch.sigmoid(rnn_model(torch.tensor(X_test_scaled, dtype=torch.float32).unsqueeze(1))).numpy().flatten()\n",
    "\n",
    "# Combine for stacked test set\n",
    "stacked_test_X = np.vstack((rf_test_pred, xgb_test_pred, ann_test_pred, rnn_test_pred)).T\n"
   ]
  },
  {
   "cell_type": "code",
   "execution_count": null,
   "metadata": {},
   "outputs": [],
   "source": [
    "class MetaANN(nn.Module):\n",
    "    def __init__(self):\n",
    "        super(MetaANN, self).__init__()\n",
    "        self.fc = nn.Sequential(\n",
    "            nn.Linear(4, 8),\n",
    "            nn.ReLU(),\n",
    "            nn.Linear(8, 1)\n",
    "        )\n",
    "    def forward(self, x):\n",
    "        return self.fc(x)\n",
    "\n",
    "def train_meta_model(stacked_X, y_train, epochs=100):\n",
    "    model = MetaANN()\n",
    "    criterion = nn.BCEWithLogitsLoss()\n",
    "    optimizer = optim.Adam(model.parameters(), lr=0.001)\n",
    "\n",
    "    stacked_tensor = torch.tensor(stacked_X, dtype=torch.float32)\n",
    "    y_tensor = torch.tensor(y_train.reshape(-1, 1), dtype=torch.float32)\n",
    "    dataset = torch.utils.data.TensorDataset(stacked_tensor, y_tensor)\n",
    "    loader = torch.utils.data.DataLoader(dataset, batch_size=32, shuffle=True)\n",
    "\n",
    "    for epoch in range(epochs):\n",
    "        model.train()\n",
    "        for batch_x, batch_y in loader:\n",
    "            optimizer.zero_grad()\n",
    "            outputs = model(batch_x)\n",
    "            loss = criterion(outputs, batch_y)\n",
    "            loss.backward()\n",
    "            optimizer.step()\n",
    "\n",
    "    torch.save(model.state_dict(), \"../models/meta_model.pth\")\n",
    "    return model\n"
   ]
  },
  {
   "cell_type": "code",
   "execution_count": 15,
   "metadata": {},
   "outputs": [],
   "source": [
    "# Train meta-model\n",
    "meta_model = train_meta_model(stacked_train_X, y_train, epochs=100)"
   ]
  },
  {
   "cell_type": "code",
   "execution_count": 16,
   "metadata": {},
   "outputs": [],
   "source": [
    "# Load meta-model for testing\n",
    "meta_model = torch.load(\"models/meta_model.pth\")\n",
    "# meta_model.eval()"
   ]
  },
  {
   "cell_type": "code",
   "execution_count": 17,
   "metadata": {},
   "outputs": [
    {
     "ename": "TypeError",
     "evalue": "'collections.OrderedDict' object is not callable",
     "output_type": "error",
     "traceback": [
      "\u001b[1;31m---------------------------------------------------------------------------\u001b[0m",
      "\u001b[1;31mTypeError\u001b[0m                                 Traceback (most recent call last)",
      "Cell \u001b[1;32mIn[17], line 3\u001b[0m\n\u001b[0;32m      1\u001b[0m \u001b[39m# Predict on stacked test\u001b[39;00m\n\u001b[0;32m      2\u001b[0m \u001b[39mwith\u001b[39;00m torch\u001b[39m.\u001b[39mno_grad():\n\u001b[1;32m----> 3\u001b[0m     meta_test_output \u001b[39m=\u001b[39m meta_model(torch\u001b[39m.\u001b[39mtensor(stacked_test_X, dtype\u001b[39m=\u001b[39mtorch\u001b[39m.\u001b[39mfloat32))\n\u001b[0;32m      4\u001b[0m     meta_test_probs \u001b[39m=\u001b[39m torch\u001b[39m.\u001b[39msigmoid(meta_test_output)\u001b[39m.\u001b[39mnumpy()\u001b[39m.\u001b[39mflatten()\n\u001b[0;32m      5\u001b[0m     meta_test_pred \u001b[39m=\u001b[39m (meta_test_probs \u001b[39m>\u001b[39m \u001b[39m0.4\u001b[39m)\u001b[39m.\u001b[39mastype(\u001b[39mint\u001b[39m)\n",
      "\u001b[1;31mTypeError\u001b[0m: 'collections.OrderedDict' object is not callable"
     ]
    }
   ],
   "source": [
    "# Predict on stacked test\n",
    "with torch.no_grad():\n",
    "    meta_test_output = meta_model(torch.tensor(stacked_test_X, dtype=torch.float32))\n",
    "    meta_test_probs = torch.sigmoid(meta_test_output).numpy().flatten()\n",
    "    meta_test_pred = (meta_test_probs > 0.4).astype(int)"
   ]
  },
  {
   "cell_type": "code",
   "execution_count": null,
   "metadata": {},
   "outputs": [
    {
     "name": "stdout",
     "output_type": "stream",
     "text": [
      "=== Stacked Hybrid Evaluation on Test Set ===\n",
      "Accuracy: 0.8772779043280182\n",
      "Precision: 0.8758700696055685\n",
      "Recall: 0.8743485813549507\n",
      "F1 Score: 0.8751086641553173\n"
     ]
    }
   ],
   "source": [
    "# Evaluate\n",
    "print(\"=== Stacked Hybrid Evaluation on Test Set ===\")\n",
    "print(\"Accuracy:\", accuracy_score(y_test, meta_test_pred))\n",
    "print(\"Precision:\", precision_score(y_test, meta_test_pred))\n",
    "print(\"Recall:\", recall_score(y_test, meta_test_pred))\n",
    "print(\"F1 Score:\", f1_score(y_test, meta_test_pred))"
   ]
  }
 ],
 "metadata": {
  "kernelspec": {
   "display_name": "base",
   "language": "python",
   "name": "python3"
  },
  "language_info": {
   "codemirror_mode": {
    "name": "ipython",
    "version": 3
   },
   "file_extension": ".py",
   "mimetype": "text/x-python",
   "name": "python",
   "nbconvert_exporter": "python",
   "pygments_lexer": "ipython3",
   "version": "3.12.4"
  },
  "orig_nbformat": 4
 },
 "nbformat": 4,
 "nbformat_minor": 2
}
